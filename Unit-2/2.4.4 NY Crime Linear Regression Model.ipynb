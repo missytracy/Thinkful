{
 "cells": [
  {
   "cell_type": "code",
   "execution_count": 34,
   "metadata": {},
   "outputs": [],
   "source": [
    "import pandas as pd\n",
    "import numpy as np\n",
    "import matplotlib.pyplot as plt\n",
    "import seaborn as sns\n",
    "from sklearn import linear_model\n",
    "% matplotlib inline"
   ]
  },
  {
   "cell_type": "markdown",
   "metadata": {},
   "source": [
    "# 2.4.4 NY Crime Linear Regression Model\n",
    "\n",
    "Use a multivariate linear regression model to predict **property crimes** in New York. You can use the features you prepared in the previous assignment, new features of your own choosing, or a combination. The goal here is prediction rather than understanding mechanisms, so the focus is on creating a model that explains a lot of variance.\n",
    "\n",
    "Data: https://ucr.fbi.gov/crime-in-the-u.s/2013/crime-in-the-u.s.-2013/tables/table-8/table-8-state-cuts/table_8_offenses_known_to_law_enforcement_new_york_by_city_2013.xls"
   ]
  },
  {
   "cell_type": "markdown",
   "metadata": {},
   "source": [
    "## Import and prepare data"
   ]
  },
  {
   "cell_type": "code",
   "execution_count": 35,
   "metadata": {},
   "outputs": [
    {
     "data": {
      "text/html": [
       "<div>\n",
       "<style scoped>\n",
       "    .dataframe tbody tr th:only-of-type {\n",
       "        vertical-align: middle;\n",
       "    }\n",
       "\n",
       "    .dataframe tbody tr th {\n",
       "        vertical-align: top;\n",
       "    }\n",
       "\n",
       "    .dataframe thead th {\n",
       "        text-align: right;\n",
       "    }\n",
       "</style>\n",
       "<table border=\"1\" class=\"dataframe\">\n",
       "  <thead>\n",
       "    <tr style=\"text-align: right;\">\n",
       "      <th></th>\n",
       "      <th>City</th>\n",
       "      <th>Population</th>\n",
       "      <th>Violent\n",
       "crime</th>\n",
       "      <th>Murder and\n",
       "nonnegligent\n",
       "manslaughter</th>\n",
       "      <th>Rape\n",
       "(revised\n",
       "definition)1</th>\n",
       "      <th>Rape\n",
       "(legacy\n",
       "definition)2</th>\n",
       "      <th>Robbery</th>\n",
       "      <th>Aggravated\n",
       "assault</th>\n",
       "      <th>Property\n",
       "crime</th>\n",
       "      <th>Burglary</th>\n",
       "      <th>Larceny-\n",
       "theft</th>\n",
       "      <th>Motor\n",
       "vehicle\n",
       "theft</th>\n",
       "      <th>Arson3</th>\n",
       "      <th>Unnamed: 13</th>\n",
       "    </tr>\n",
       "  </thead>\n",
       "  <tbody>\n",
       "    <tr>\n",
       "      <th>0</th>\n",
       "      <td>Adams Village</td>\n",
       "      <td>1,861</td>\n",
       "      <td>0</td>\n",
       "      <td>0</td>\n",
       "      <td>NaN</td>\n",
       "      <td>0</td>\n",
       "      <td>0</td>\n",
       "      <td>0</td>\n",
       "      <td>12</td>\n",
       "      <td>2</td>\n",
       "      <td>10</td>\n",
       "      <td>0</td>\n",
       "      <td>0.0</td>\n",
       "      <td>NaN</td>\n",
       "    </tr>\n",
       "    <tr>\n",
       "      <th>1</th>\n",
       "      <td>Addison Town and Village</td>\n",
       "      <td>2,577</td>\n",
       "      <td>3</td>\n",
       "      <td>0</td>\n",
       "      <td>NaN</td>\n",
       "      <td>0</td>\n",
       "      <td>0</td>\n",
       "      <td>3</td>\n",
       "      <td>24</td>\n",
       "      <td>3</td>\n",
       "      <td>20</td>\n",
       "      <td>1</td>\n",
       "      <td>0.0</td>\n",
       "      <td>NaN</td>\n",
       "    </tr>\n",
       "    <tr>\n",
       "      <th>2</th>\n",
       "      <td>Akron Village</td>\n",
       "      <td>2,846</td>\n",
       "      <td>3</td>\n",
       "      <td>0</td>\n",
       "      <td>NaN</td>\n",
       "      <td>0</td>\n",
       "      <td>0</td>\n",
       "      <td>3</td>\n",
       "      <td>16</td>\n",
       "      <td>1</td>\n",
       "      <td>15</td>\n",
       "      <td>0</td>\n",
       "      <td>0.0</td>\n",
       "      <td>NaN</td>\n",
       "    </tr>\n",
       "    <tr>\n",
       "      <th>3</th>\n",
       "      <td>Albany</td>\n",
       "      <td>97,956</td>\n",
       "      <td>791</td>\n",
       "      <td>8</td>\n",
       "      <td>NaN</td>\n",
       "      <td>30</td>\n",
       "      <td>227</td>\n",
       "      <td>526</td>\n",
       "      <td>4,090</td>\n",
       "      <td>705</td>\n",
       "      <td>3,243</td>\n",
       "      <td>142</td>\n",
       "      <td>NaN</td>\n",
       "      <td>NaN</td>\n",
       "    </tr>\n",
       "    <tr>\n",
       "      <th>4</th>\n",
       "      <td>Albion Village</td>\n",
       "      <td>6,388</td>\n",
       "      <td>23</td>\n",
       "      <td>0</td>\n",
       "      <td>NaN</td>\n",
       "      <td>3</td>\n",
       "      <td>4</td>\n",
       "      <td>16</td>\n",
       "      <td>223</td>\n",
       "      <td>53</td>\n",
       "      <td>165</td>\n",
       "      <td>5</td>\n",
       "      <td>NaN</td>\n",
       "      <td>NaN</td>\n",
       "    </tr>\n",
       "  </tbody>\n",
       "</table>\n",
       "</div>"
      ],
      "text/plain": [
       "                       City Population Violent\\ncrime  \\\n",
       "0             Adams Village      1,861              0   \n",
       "1  Addison Town and Village      2,577              3   \n",
       "2             Akron Village      2,846              3   \n",
       "3                    Albany     97,956            791   \n",
       "4            Albion Village      6,388             23   \n",
       "\n",
       "   Murder and\\nnonnegligent\\nmanslaughter  Rape\\n(revised\\ndefinition)1  \\\n",
       "0                                       0                           NaN   \n",
       "1                                       0                           NaN   \n",
       "2                                       0                           NaN   \n",
       "3                                       8                           NaN   \n",
       "4                                       0                           NaN   \n",
       "\n",
       "  Rape\\n(legacy\\ndefinition)2 Robbery Aggravated\\nassault Property\\ncrime  \\\n",
       "0                           0       0                   0              12   \n",
       "1                           0       0                   3              24   \n",
       "2                           0       0                   3              16   \n",
       "3                          30     227                 526           4,090   \n",
       "4                           3       4                  16             223   \n",
       "\n",
       "  Burglary Larceny-\\ntheft Motor\\nvehicle\\ntheft  Arson3  Unnamed: 13  \n",
       "0        2              10                     0     0.0          NaN  \n",
       "1        3              20                     1     0.0          NaN  \n",
       "2        1              15                     0     0.0          NaN  \n",
       "3      705           3,243                   142     NaN          NaN  \n",
       "4       53             165                     5     NaN          NaN  "
      ]
     },
     "execution_count": 35,
     "metadata": {},
     "output_type": "execute_result"
    }
   ],
   "source": [
    "df = pd.read_csv('nyc_crime.csv', header=4, skipfooter=3, engine='python')\n",
    "df.head()"
   ]
  },
  {
   "cell_type": "code",
   "execution_count": 36,
   "metadata": {},
   "outputs": [],
   "source": [
    "# Do some light cleaning/reorg\n",
    "\n",
    "# remove extra column\n",
    "del df['Unnamed: 13']\n",
    "\n",
    "# rename columns\n",
    "df.columns = ['city', 'population', 'violent_crimes', 'murder', 'rape1', 'rape2', 'robbery', 'assault', 'property', \n",
    "              'burglary', 'larceny_theft', 'vehicle_theft', 'arson']\n",
    "\n",
    "# delete rape1 - this column doesn't tell us any information.  All rape data in rape2 column.\n",
    "del df['rape1']"
   ]
  },
  {
   "cell_type": "code",
   "execution_count": 37,
   "metadata": {},
   "outputs": [],
   "source": [
    "# Check dtypes\n",
    "#print(df.dtypes)\n",
    "\n",
    "# Remove commas \n",
    "column_names = ['city', 'population', 'violent_crimes', 'murder', 'rape2', 'robbery', 'assault', 'property', \n",
    "              'burglary', 'larceny_theft', 'vehicle_theft', 'arson']\n",
    "\n",
    "for column in column_names:\n",
    "    df[column] = df[column].apply(lambda x: str(x).replace(',', ''))\n",
    "\n",
    "# Convert to numeric\n",
    "numeric_columns = ['population', 'violent_crimes', 'murder', 'rape2', 'robbery', 'assault', 'property', \n",
    "              'burglary', 'larceny_theft', 'vehicle_theft']\n",
    "\n",
    "for column in numeric_columns:\n",
    "    df[column] = pd.to_numeric(df[column])\n",
    "\n",
    "# Confirm changes\n",
    "#print(df.dtypes)"
   ]
  },
  {
   "cell_type": "code",
   "execution_count": 38,
   "metadata": {},
   "outputs": [],
   "source": [
    "# Remove arson column.  Too many missing fields to impute data.  Based on footnote in raw excel file, NaN fields represent\n",
    "# cities where the data reporting wasn't done properly.\n",
    "\n",
    "del df['arson']"
   ]
  },
  {
   "cell_type": "markdown",
   "metadata": {},
   "source": [
    "## Prepare data to input in model using the following regression:\n",
    "$$ Property crime = \\alpha + Population + Population^2 + Murder + Robbery$$"
   ]
  },
  {
   "cell_type": "code",
   "execution_count": 39,
   "metadata": {},
   "outputs": [],
   "source": [
    "#square population\n",
    "df['sq_population'] = df['population'] **2\n",
    "\n",
    "#Encode murder data as categorical\n",
    "df['murder_mod'] = 0\n",
    "df.loc[df['murder'] > 0, 'murder_mod'] = 1\n",
    "\n",
    "#Encode robbery data as categorical\n",
    "df['robbery_mod'] = 0\n",
    "df.loc[df['robbery'] > 0, 'robbery_mod'] = 1"
   ]
  },
  {
   "cell_type": "markdown",
   "metadata": {},
   "source": [
    "## Explore Variables"
   ]
  },
  {
   "cell_type": "markdown",
   "metadata": {},
   "source": [
    "#### Dependent Variable"
   ]
  },
  {
   "cell_type": "code",
   "execution_count": 40,
   "metadata": {},
   "outputs": [
    {
     "data": {
      "image/png": "[encoded data removed]",
      "text/plain": [
       "<matplotlib.figure.Figure at 0x3632a50>"
      ]
     },
     "metadata": {},
     "output_type": "display_data"
    }
   ],
   "source": [
    "# Distribution of target variable property crimes\n",
    "g = sns.distplot(df.property, kde=False)\n",
    "plt.title('Property Crime Distribution')\n",
    "plt.show()\n",
    "\n",
    "# NYC data is an extremely large outlier skewing the data"
   ]
  },
  {
   "cell_type": "code",
   "execution_count": 41,
   "metadata": {},
   "outputs": [
    {
     "data": {
      "image/png": "[encoded data removed]",
      "text/plain": [
       "<matplotlib.figure.Figure at 0x361cfd0>"
      ]
     },
     "metadata": {},
     "output_type": "display_data"
    }
   ],
   "source": [
    "# Try a transform on the data\n",
    "df['property_trans'] = df['property']**0.1\n",
    "g = sns.distplot(df.property_trans, kde=False)\n",
    "plt.title('Property Crime Distribution')\n",
    "plt.show()\n",
    "\n",
    "# Looks normal-ish now.  Remember to transform the model output by using (output value)^10"
   ]
  },
  {
   "cell_type": "code",
   "execution_count": 42,
   "metadata": {
    "scrolled": true
   },
   "outputs": [
    {
     "data": {
      "text/html": [
       "<div>\n",
       "<style scoped>\n",
       "    .dataframe tbody tr th:only-of-type {\n",
       "        vertical-align: middle;\n",
       "    }\n",
       "\n",
       "    .dataframe tbody tr th {\n",
       "        vertical-align: top;\n",
       "    }\n",
       "\n",
       "    .dataframe thead th {\n",
       "        text-align: right;\n",
       "    }\n",
       "</style>\n",
       "<table border=\"1\" class=\"dataframe\">\n",
       "  <thead>\n",
       "    <tr style=\"text-align: right;\">\n",
       "      <th></th>\n",
       "      <th>city</th>\n",
       "      <th>population</th>\n",
       "      <th>violent_crimes</th>\n",
       "      <th>murder</th>\n",
       "      <th>rape2</th>\n",
       "      <th>robbery</th>\n",
       "      <th>assault</th>\n",
       "      <th>property</th>\n",
       "      <th>burglary</th>\n",
       "      <th>larceny_theft</th>\n",
       "      <th>vehicle_theft</th>\n",
       "      <th>sq_population</th>\n",
       "      <th>murder_mod</th>\n",
       "      <th>robbery_mod</th>\n",
       "      <th>property_trans</th>\n",
       "    </tr>\n",
       "  </thead>\n",
       "  <tbody>\n",
       "    <tr>\n",
       "      <th>216</th>\n",
       "      <td>New York</td>\n",
       "      <td>8396126</td>\n",
       "      <td>52384</td>\n",
       "      <td>335</td>\n",
       "      <td>1112</td>\n",
       "      <td>19170</td>\n",
       "      <td>31767</td>\n",
       "      <td>141971</td>\n",
       "      <td>16606</td>\n",
       "      <td>117931</td>\n",
       "      <td>7434</td>\n",
       "      <td>70494931807876</td>\n",
       "      <td>1</td>\n",
       "      <td>1</td>\n",
       "      <td>3.275065</td>\n",
       "    </tr>\n",
       "  </tbody>\n",
       "</table>\n",
       "</div>"
      ],
      "text/plain": [
       "         city  population  violent_crimes  murder  rape2  robbery  assault  \\\n",
       "216  New York     8396126           52384     335   1112    19170    31767   \n",
       "\n",
       "     property  burglary  larceny_theft  vehicle_theft   sq_population  \\\n",
       "216    141971     16606         117931           7434  70494931807876   \n",
       "\n",
       "     murder_mod  robbery_mod  property_trans  \n",
       "216           1            1        3.275065  "
      ]
     },
     "execution_count": 42,
     "metadata": {},
     "output_type": "execute_result"
    }
   ],
   "source": [
    "df.loc[df['city'] == 'New York']"
   ]
  },
  {
   "cell_type": "code",
   "execution_count": 43,
   "metadata": {},
   "outputs": [
    {
     "data": {
      "text/html": [
       "<div>\n",
       "<style scoped>\n",
       "    .dataframe tbody tr th:only-of-type {\n",
       "        vertical-align: middle;\n",
       "    }\n",
       "\n",
       "    .dataframe tbody tr th {\n",
       "        vertical-align: top;\n",
       "    }\n",
       "\n",
       "    .dataframe thead th {\n",
       "        text-align: right;\n",
       "    }\n",
       "</style>\n",
       "<table border=\"1\" class=\"dataframe\">\n",
       "  <thead>\n",
       "    <tr style=\"text-align: right;\">\n",
       "      <th></th>\n",
       "      <th>population</th>\n",
       "      <th>violent_crimes</th>\n",
       "      <th>murder</th>\n",
       "      <th>rape2</th>\n",
       "      <th>robbery</th>\n",
       "      <th>assault</th>\n",
       "      <th>property</th>\n",
       "      <th>burglary</th>\n",
       "      <th>larceny_theft</th>\n",
       "      <th>vehicle_theft</th>\n",
       "      <th>sq_population</th>\n",
       "      <th>murder_mod</th>\n",
       "      <th>robbery_mod</th>\n",
       "      <th>property_trans</th>\n",
       "    </tr>\n",
       "  </thead>\n",
       "  <tbody>\n",
       "    <tr>\n",
       "      <th>count</th>\n",
       "      <td>347.000000</td>\n",
       "      <td>347.000000</td>\n",
       "      <td>347.000000</td>\n",
       "      <td>347.000000</td>\n",
       "      <td>347.000000</td>\n",
       "      <td>347.000000</td>\n",
       "      <td>347.000000</td>\n",
       "      <td>347.000000</td>\n",
       "      <td>347.000000</td>\n",
       "      <td>347.000000</td>\n",
       "      <td>3.470000e+02</td>\n",
       "      <td>347.000000</td>\n",
       "      <td>347.000000</td>\n",
       "      <td>347.000000</td>\n",
       "    </tr>\n",
       "    <tr>\n",
       "      <th>mean</th>\n",
       "      <td>15956.685879</td>\n",
       "      <td>51.213256</td>\n",
       "      <td>0.605187</td>\n",
       "      <td>2.677233</td>\n",
       "      <td>17.867435</td>\n",
       "      <td>30.063401</td>\n",
       "      <td>385.752161</td>\n",
       "      <td>72.172911</td>\n",
       "      <td>298.994236</td>\n",
       "      <td>14.585014</td>\n",
       "      <td>9.858407e+08</td>\n",
       "      <td>0.138329</td>\n",
       "      <td>0.599424</td>\n",
       "      <td>1.602527</td>\n",
       "    </tr>\n",
       "    <tr>\n",
       "      <th>std</th>\n",
       "      <td>27080.218837</td>\n",
       "      <td>236.667435</td>\n",
       "      <td>3.707090</td>\n",
       "      <td>10.741020</td>\n",
       "      <td>94.972492</td>\n",
       "      <td>128.783376</td>\n",
       "      <td>1034.369072</td>\n",
       "      <td>264.941381</td>\n",
       "      <td>715.232296</td>\n",
       "      <td>67.682236</td>\n",
       "      <td>5.067232e+09</td>\n",
       "      <td>0.345743</td>\n",
       "      <td>0.490723</td>\n",
       "      <td>0.332781</td>\n",
       "    </tr>\n",
       "    <tr>\n",
       "      <th>min</th>\n",
       "      <td>526.000000</td>\n",
       "      <td>0.000000</td>\n",
       "      <td>0.000000</td>\n",
       "      <td>0.000000</td>\n",
       "      <td>0.000000</td>\n",
       "      <td>0.000000</td>\n",
       "      <td>0.000000</td>\n",
       "      <td>0.000000</td>\n",
       "      <td>0.000000</td>\n",
       "      <td>0.000000</td>\n",
       "      <td>2.766760e+05</td>\n",
       "      <td>0.000000</td>\n",
       "      <td>0.000000</td>\n",
       "      <td>0.000000</td>\n",
       "    </tr>\n",
       "    <tr>\n",
       "      <th>25%</th>\n",
       "      <td>2997.000000</td>\n",
       "      <td>2.000000</td>\n",
       "      <td>0.000000</td>\n",
       "      <td>0.000000</td>\n",
       "      <td>0.000000</td>\n",
       "      <td>1.000000</td>\n",
       "      <td>40.000000</td>\n",
       "      <td>6.000000</td>\n",
       "      <td>31.000000</td>\n",
       "      <td>0.000000</td>\n",
       "      <td>8.982153e+06</td>\n",
       "      <td>0.000000</td>\n",
       "      <td>0.000000</td>\n",
       "      <td>1.446085</td>\n",
       "    </tr>\n",
       "    <tr>\n",
       "      <th>50%</th>\n",
       "      <td>7187.000000</td>\n",
       "      <td>6.000000</td>\n",
       "      <td>0.000000</td>\n",
       "      <td>0.000000</td>\n",
       "      <td>1.000000</td>\n",
       "      <td>4.000000</td>\n",
       "      <td>112.000000</td>\n",
       "      <td>17.000000</td>\n",
       "      <td>94.000000</td>\n",
       "      <td>2.000000</td>\n",
       "      <td>5.165297e+07</td>\n",
       "      <td>0.000000</td>\n",
       "      <td>1.000000</td>\n",
       "      <td>1.602957</td>\n",
       "    </tr>\n",
       "    <tr>\n",
       "      <th>75%</th>\n",
       "      <td>18160.500000</td>\n",
       "      <td>21.500000</td>\n",
       "      <td>0.000000</td>\n",
       "      <td>2.000000</td>\n",
       "      <td>5.000000</td>\n",
       "      <td>14.000000</td>\n",
       "      <td>340.500000</td>\n",
       "      <td>51.000000</td>\n",
       "      <td>284.500000</td>\n",
       "      <td>7.000000</td>\n",
       "      <td>3.298042e+08</td>\n",
       "      <td>0.000000</td>\n",
       "      <td>1.000000</td>\n",
       "      <td>1.791479</td>\n",
       "    </tr>\n",
       "    <tr>\n",
       "      <th>max</th>\n",
       "      <td>258789.000000</td>\n",
       "      <td>3249.000000</td>\n",
       "      <td>47.000000</td>\n",
       "      <td>145.000000</td>\n",
       "      <td>1322.000000</td>\n",
       "      <td>1735.000000</td>\n",
       "      <td>12491.000000</td>\n",
       "      <td>3458.000000</td>\n",
       "      <td>8076.000000</td>\n",
       "      <td>957.000000</td>\n",
       "      <td>6.697175e+10</td>\n",
       "      <td>1.000000</td>\n",
       "      <td>1.000000</td>\n",
       "      <td>2.568383</td>\n",
       "    </tr>\n",
       "  </tbody>\n",
       "</table>\n",
       "</div>"
      ],
      "text/plain": [
       "          population  violent_crimes      murder       rape2      robbery  \\\n",
       "count     347.000000      347.000000  347.000000  347.000000   347.000000   \n",
       "mean    15956.685879       51.213256    0.605187    2.677233    17.867435   \n",
       "std     27080.218837      236.667435    3.707090   10.741020    94.972492   \n",
       "min       526.000000        0.000000    0.000000    0.000000     0.000000   \n",
       "25%      2997.000000        2.000000    0.000000    0.000000     0.000000   \n",
       "50%      7187.000000        6.000000    0.000000    0.000000     1.000000   \n",
       "75%     18160.500000       21.500000    0.000000    2.000000     5.000000   \n",
       "max    258789.000000     3249.000000   47.000000  145.000000  1322.000000   \n",
       "\n",
       "           assault      property     burglary  larceny_theft  vehicle_theft  \\\n",
       "count   347.000000    347.000000   347.000000     347.000000     347.000000   \n",
       "mean     30.063401    385.752161    72.172911     298.994236      14.585014   \n",
       "std     128.783376   1034.369072   264.941381     715.232296      67.682236   \n",
       "min       0.000000      0.000000     0.000000       0.000000       0.000000   \n",
       "25%       1.000000     40.000000     6.000000      31.000000       0.000000   \n",
       "50%       4.000000    112.000000    17.000000      94.000000       2.000000   \n",
       "75%      14.000000    340.500000    51.000000     284.500000       7.000000   \n",
       "max    1735.000000  12491.000000  3458.000000    8076.000000     957.000000   \n",
       "\n",
       "       sq_population  murder_mod  robbery_mod  property_trans  \n",
       "count   3.470000e+02  347.000000   347.000000      347.000000  \n",
       "mean    9.858407e+08    0.138329     0.599424        1.602527  \n",
       "std     5.067232e+09    0.345743     0.490723        0.332781  \n",
       "min     2.766760e+05    0.000000     0.000000        0.000000  \n",
       "25%     8.982153e+06    0.000000     0.000000        1.446085  \n",
       "50%     5.165297e+07    0.000000     1.000000        1.602957  \n",
       "75%     3.298042e+08    0.000000     1.000000        1.791479  \n",
       "max     6.697175e+10    1.000000     1.000000        2.568383  "
      ]
     },
     "execution_count": 43,
     "metadata": {},
     "output_type": "execute_result"
    }
   ],
   "source": [
    "# Try creating new dataframe without NYC data\n",
    "df2 = df.drop(df.index[216])\n",
    "df2.describe()"
   ]
  },
  {
   "cell_type": "code",
   "execution_count": 44,
   "metadata": {},
   "outputs": [
    {
     "data": {
      "image/png": "[encoded data removed]",
      "text/plain": [
       "<matplotlib.figure.Figure at 0x3632f90>"
      ]
     },
     "metadata": {},
     "output_type": "display_data"
    }
   ],
   "source": [
    "# Plot distribution w/out NYC\n",
    "g = sns.distplot(df2.property, kde=False)\n",
    "plt.title('Property Crime Distribution - No NYC')\n",
    "plt.show()\n",
    "\n",
    "# Still very unbalanced"
   ]
  },
  {
   "cell_type": "code",
   "execution_count": 45,
   "metadata": {},
   "outputs": [
    {
     "data": {
      "image/png": "[encoded data removed]",
      "text/plain": [
       "<matplotlib.figure.Figure at 0x3709d70>"
      ]
     },
     "metadata": {},
     "output_type": "display_data"
    }
   ],
   "source": [
    "# Try a transform w/out NYC\n",
    "x = df2.property**0.2\n",
    "g = sns.distplot(x, kde=False)\n",
    "plt.title('Property Crime Distribution - No NYC')\n",
    "plt.show()"
   ]
  },
  {
   "cell_type": "code",
   "execution_count": 46,
   "metadata": {},
   "outputs": [],
   "source": [
    "# Doesn't look much better. Leave in NYC data and use property_trans column.\n",
    "\n",
    "# Update:  Models were much worse using property_trans column.  Models below were run using original property values.\n",
    "# could have to do with needing to transform the model output before evaluating error?  How would this be done?  Would you \n",
    "# transform the 'predicted' variable?"
   ]
  },
  {
   "cell_type": "markdown",
   "metadata": {},
   "source": [
    "#### Independent Variables"
   ]
  },
  {
   "cell_type": "markdown",
   "metadata": {},
   "source": [
    "$$ Property crime = \\alpha + Population + Population^2 + Murder + Robbery$$"
   ]
  },
  {
   "cell_type": "code",
   "execution_count": 47,
   "metadata": {},
   "outputs": [],
   "source": [
    "# Follow given model \n",
    "X = df[['population', 'sq_population', 'murder_mod', 'robbery_mod']]"
   ]
  },
  {
   "cell_type": "code",
   "execution_count": 48,
   "metadata": {
    "scrolled": true
   },
   "outputs": [
    {
     "data": {
      "text/html": [
       "<div>\n",
       "<style scoped>\n",
       "    .dataframe tbody tr th:only-of-type {\n",
       "        vertical-align: middle;\n",
       "    }\n",
       "\n",
       "    .dataframe tbody tr th {\n",
       "        vertical-align: top;\n",
       "    }\n",
       "\n",
       "    .dataframe thead th {\n",
       "        text-align: right;\n",
       "    }\n",
       "</style>\n",
       "<table border=\"1\" class=\"dataframe\">\n",
       "  <thead>\n",
       "    <tr style=\"text-align: right;\">\n",
       "      <th></th>\n",
       "      <th>population</th>\n",
       "      <th>sq_population</th>\n",
       "      <th>murder_mod</th>\n",
       "      <th>robbery_mod</th>\n",
       "    </tr>\n",
       "  </thead>\n",
       "  <tbody>\n",
       "    <tr>\n",
       "      <th>population</th>\n",
       "      <td>1.000000</td>\n",
       "      <td>0.998264</td>\n",
       "      <td>0.162309</td>\n",
       "      <td>0.064371</td>\n",
       "    </tr>\n",
       "    <tr>\n",
       "      <th>sq_population</th>\n",
       "      <td>0.998264</td>\n",
       "      <td>1.000000</td>\n",
       "      <td>0.133067</td>\n",
       "      <td>0.043983</td>\n",
       "    </tr>\n",
       "    <tr>\n",
       "      <th>murder_mod</th>\n",
       "      <td>0.162309</td>\n",
       "      <td>0.133067</td>\n",
       "      <td>1.000000</td>\n",
       "      <td>0.313271</td>\n",
       "    </tr>\n",
       "    <tr>\n",
       "      <th>robbery_mod</th>\n",
       "      <td>0.064371</td>\n",
       "      <td>0.043983</td>\n",
       "      <td>0.313271</td>\n",
       "      <td>1.000000</td>\n",
       "    </tr>\n",
       "  </tbody>\n",
       "</table>\n",
       "</div>"
      ],
      "text/plain": [
       "               population  sq_population  murder_mod  robbery_mod\n",
       "population       1.000000       0.998264    0.162309     0.064371\n",
       "sq_population    0.998264       1.000000    0.133067     0.043983\n",
       "murder_mod       0.162309       0.133067    1.000000     0.313271\n",
       "robbery_mod      0.064371       0.043983    0.313271     1.000000"
      ]
     },
     "metadata": {},
     "output_type": "display_data"
    }
   ],
   "source": [
    "# Look at correlation between variables \n",
    "correlation_matrix = X.corr()\n",
    "display(X.corr())"
   ]
  },
  {
   "cell_type": "code",
   "execution_count": 49,
   "metadata": {},
   "outputs": [
    {
     "name": "stdout",
     "output_type": "stream",
     "text": [
      "\n",
      "Coefficients: \n",
      " [  3.46570268e-02  -2.11108019e-09   1.51866535e+01  -9.62774363e+01]\n",
      "\n",
      "Intercept: \n",
      " -109.575335623\n",
      "\n",
      "R-squared:\n",
      "0.996124710499\n"
     ]
    }
   ],
   "source": [
    "# Try using given model with untransformed property crime data\n",
    "\n",
    "# Instantiate and fit.\n",
    "regr = linear_model.LinearRegression()\n",
    "Y = df['property']\n",
    "X = df[['population', 'sq_population', 'murder_mod', 'robbery_mod']]\n",
    "regr.fit(X, Y)\n",
    "\n",
    "# Inspect the results.\n",
    "print('\\nCoefficients: \\n', regr.coef_)\n",
    "print('\\nIntercept: \\n', regr.intercept_)\n",
    "print('\\nR-squared:')\n",
    "print(regr.score(X, Y))"
   ]
  },
  {
   "cell_type": "code",
   "execution_count": 50,
   "metadata": {},
   "outputs": [
    {
     "data": {
      "image/png": "[encoded data removed]",
      "text/plain": [
       "<matplotlib.figure.Figure at 0x377b2d0>"
      ]
     },
     "metadata": {},
     "output_type": "display_data"
    },
    {
     "data": {
      "image/png": "[encoded data removed]",
      "text/plain": [
       "<matplotlib.figure.Figure at 0x372a6b0>"
      ]
     },
     "metadata": {},
     "output_type": "display_data"
    }
   ],
   "source": [
    "# Model gives good R^2 value.  Look at distribution of error\n",
    "\n",
    "# What is .ravel() doing?  \n",
    "\n",
    "predicted = regr.predict(X).ravel()\n",
    "#predicted = regr.predict(X)\n",
    "actual = df['property']\n",
    "\n",
    "residual = actual - predicted\n",
    "\n",
    "# Plot distribution of error\n",
    "plt.hist(residual)\n",
    "plt.title('Residual counts')\n",
    "plt.xlabel('Residual')\n",
    "plt.ylabel('Count')\n",
    "plt.show()\n",
    "\n",
    "# Plot distribution of error \n",
    "plt.scatter(predicted, residual)\n",
    "plt.xlabel('Predicted')\n",
    "plt.ylabel('Residual')\n",
    "plt.axhline(y=0)\n",
    "plt.title('Residual vs. Predicted')\n",
    "plt.show()"
   ]
  },
  {
   "cell_type": "code",
   "execution_count": 51,
   "metadata": {},
   "outputs": [
    {
     "data": {
      "text/html": [
       "<div>\n",
       "<style scoped>\n",
       "    .dataframe tbody tr th:only-of-type {\n",
       "        vertical-align: middle;\n",
       "    }\n",
       "\n",
       "    .dataframe tbody tr th {\n",
       "        vertical-align: top;\n",
       "    }\n",
       "\n",
       "    .dataframe thead th {\n",
       "        text-align: right;\n",
       "    }\n",
       "</style>\n",
       "<table border=\"1\" class=\"dataframe\">\n",
       "  <thead>\n",
       "    <tr style=\"text-align: right;\">\n",
       "      <th></th>\n",
       "      <th>city</th>\n",
       "      <th>population</th>\n",
       "      <th>violent_crimes</th>\n",
       "      <th>murder</th>\n",
       "      <th>rape2</th>\n",
       "      <th>robbery</th>\n",
       "      <th>assault</th>\n",
       "      <th>property</th>\n",
       "      <th>burglary</th>\n",
       "      <th>larceny_theft</th>\n",
       "      <th>vehicle_theft</th>\n",
       "      <th>sq_population</th>\n",
       "      <th>murder_mod</th>\n",
       "      <th>robbery_mod</th>\n",
       "      <th>property_trans</th>\n",
       "    </tr>\n",
       "  </thead>\n",
       "  <tbody>\n",
       "    <tr>\n",
       "      <th>0</th>\n",
       "      <td>Adams Village</td>\n",
       "      <td>1861</td>\n",
       "      <td>0</td>\n",
       "      <td>0</td>\n",
       "      <td>0</td>\n",
       "      <td>0</td>\n",
       "      <td>0</td>\n",
       "      <td>12</td>\n",
       "      <td>2</td>\n",
       "      <td>10</td>\n",
       "      <td>0</td>\n",
       "      <td>3463321</td>\n",
       "      <td>0</td>\n",
       "      <td>0</td>\n",
       "      <td>1.282089</td>\n",
       "    </tr>\n",
       "  </tbody>\n",
       "</table>\n",
       "</div>"
      ],
      "text/plain": [
       "            city  population  violent_crimes  murder  rape2  robbery  assault  \\\n",
       "0  Adams Village        1861               0       0      0        0        0   \n",
       "\n",
       "   property  burglary  larceny_theft  vehicle_theft  sq_population  \\\n",
       "0        12         2             10              0        3463321   \n",
       "\n",
       "   murder_mod  robbery_mod  property_trans  \n",
       "0           0            0        1.282089  "
      ]
     },
     "execution_count": 51,
     "metadata": {},
     "output_type": "execute_result"
    }
   ],
   "source": [
    "# Run model without NYC data.  Same model parameters.\n",
    "df2.head(1)"
   ]
  },
  {
   "cell_type": "code",
   "execution_count": 52,
   "metadata": {},
   "outputs": [
    {
     "name": "stdout",
     "output_type": "stream",
     "text": [
      "\n",
      "Coefficients: \n",
      " [  1.29510871e-02   1.14920528e-07   1.95038666e+02   9.28205845e+01]\n",
      "\n",
      "Intercept: \n",
      " -16.8158663217\n",
      "\n",
      "R-squared:\n",
      "0.844493761117\n"
     ]
    }
   ],
   "source": [
    "# Instantiate and fit.\n",
    "regr = linear_model.LinearRegression()\n",
    "Y = df2['property']\n",
    "X = df2[['population', 'sq_population', 'murder_mod', 'robbery_mod']]\n",
    "regr.fit(X, Y)\n",
    "\n",
    "# Inspect the results.\n",
    "print('\\nCoefficients: \\n', regr.coef_)\n",
    "print('\\nIntercept: \\n', regr.intercept_)\n",
    "print('\\nR-squared:')\n",
    "print(regr.score(X, Y))"
   ]
  },
  {
   "cell_type": "code",
   "execution_count": 53,
   "metadata": {},
   "outputs": [
    {
     "data": {
      "image/png": "[encoded data removed]",
      "text/plain": [
       "<matplotlib.figure.Figure at 0x3755410>"
      ]
     },
     "metadata": {},
     "output_type": "display_data"
    },
    {
     "data": {
      "image/png": "[encoded data removed]",
      "text/plain": [
       "<matplotlib.figure.Figure at 0x3617f70>"
      ]
     },
     "metadata": {},
     "output_type": "display_data"
    }
   ],
   "source": [
    "# Look at distribution of error\n",
    "\n",
    "predicted = regr.predict(X).ravel()\n",
    "actual = df2['property']\n",
    "\n",
    "residual = actual - predicted\n",
    "\n",
    "# Plot distribution of error\n",
    "plt.hist(residual)\n",
    "plt.title('Residual counts - No NYC')\n",
    "plt.xlabel('Residual')\n",
    "plt.ylabel('Count')\n",
    "plt.show()\n",
    "\n",
    "# Plot distribution of error \n",
    "plt.scatter(predicted, residual)\n",
    "plt.xlabel('Predicted')\n",
    "plt.ylabel('Residual')\n",
    "plt.axhline(y=0)\n",
    "plt.title('Residual vs. Predicted - No NYC')\n",
    "plt.show()"
   ]
  },
  {
   "cell_type": "code",
   "execution_count": 54,
   "metadata": {},
   "outputs": [],
   "source": [
    "# Including NYC data makes R^2 value larger but magnitude of residual error is also larger. "
   ]
  }
 ],
 "metadata": {
  "kernelspec": {
   "display_name": "Python 3",
   "language": "python",
   "name": "python3"
  },
  "language_info": {
   "codemirror_mode": {
    "name": "ipython",
    "version": 3
   },
   "file_extension": ".py",
   "mimetype": "text/x-python",
   "name": "python",
   "nbconvert_exporter": "python",
   "pygments_lexer": "ipython3",
   "version": "3.6.3"
  }
 },
 "nbformat": 4,
 "nbformat_minor": 2
}

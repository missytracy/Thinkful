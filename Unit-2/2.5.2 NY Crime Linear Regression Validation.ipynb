{
 "cells": [
  {
   "cell_type": "code",
   "execution_count": 29,
   "metadata": {},
   "outputs": [],
   "source": [
    "import pandas as pd\n",
    "import numpy as np\n",
    "import matplotlib.pyplot as plt\n",
    "import seaborn as sns\n",
    "from sklearn import linear_model\n",
    "% matplotlib inline"
   ]
  },
  {
   "cell_type": "markdown",
   "metadata": {},
   "source": [
    "# 2.5.2 NY Crime Linear Regression Model Validation\n",
    "\n",
    "Goal: Use a multivariate linear regression model to predict **property crimes** in New York. Validate using \n",
    "\n",
    "Data: https://ucr.fbi.gov/crime-in-the-u.s/2013/crime-in-the-u.s.-2013/tables/table-8/table-8-state-cuts/table_8_offenses_known_to_law_enforcement_new_york_by_city_2013.xls"
   ]
  },
  {
   "cell_type": "markdown",
   "metadata": {},
   "source": [
    "## Data Preparation"
   ]
  },
  {
   "cell_type": "markdown",
   "metadata": {},
   "source": [
    "#### Training Data (2013)"
   ]
  },
  {
   "cell_type": "code",
   "execution_count": 30,
   "metadata": {},
   "outputs": [],
   "source": [
    "df = pd.read_csv('nyc_crime.csv', header=4, skipfooter=3, engine='python')"
   ]
  },
  {
   "cell_type": "code",
   "execution_count": 31,
   "metadata": {},
   "outputs": [],
   "source": [
    "# remove extra column\n",
    "del df['Unnamed: 13']\n",
    "\n",
    "# rename columns\n",
    "df.columns = ['city', 'population', 'violent_crimes', 'murder', 'rape1', 'rape2', 'robbery', 'assault', 'property', \n",
    "              'burglary', 'larceny_theft', 'vehicle_theft', 'arson']\n",
    "\n",
    "# delete rape1 - this column doesn't tell us any information\n",
    "del df['rape1']\n",
    "\n",
    "# Remove commas \n",
    "column_names = ['city', 'population', 'violent_crimes', 'murder', 'rape2', 'robbery', 'assault', 'property', \n",
    "              'burglary', 'larceny_theft', 'vehicle_theft', 'arson']\n",
    "\n",
    "for column in column_names:\n",
    "    df[column] = df[column].apply(lambda x: str(x).replace(',', ''))\n",
    "\n",
    "# Convert to numeric\n",
    "numeric_columns = ['population', 'violent_crimes', 'murder', 'rape2', 'robbery', 'assault', 'property', \n",
    "              'burglary', 'larceny_theft', 'vehicle_theft']\n",
    "\n",
    "for column in numeric_columns:\n",
    "    df[column] = pd.to_numeric(df[column])\n",
    "\n",
    "# Remove arson column.  Too many missing fields to impute data.  Based on footnote in raw excel file, NaN fields represent\n",
    "# cities where the data reporting wasn't done properly.\n",
    "\n",
    "del df['arson']"
   ]
  },
  {
   "cell_type": "code",
   "execution_count": 32,
   "metadata": {},
   "outputs": [],
   "source": [
    "#square population\n",
    "df['sq_population'] = df['population'] **2\n",
    "\n",
    "#Encode murder data as categorical\n",
    "df['murder_mod'] = 0\n",
    "df.loc[df['murder'] > 0, 'murder_mod'] = 1\n",
    "\n",
    "#Encode robbery data as categorical\n",
    "df['robbery_mod'] = 0\n",
    "df.loc[df['robbery'] > 0, 'robbery_mod'] = 1"
   ]
  },
  {
   "cell_type": "markdown",
   "metadata": {},
   "source": [
    "#### Test Data (2014)"
   ]
  },
  {
   "cell_type": "code",
   "execution_count": 33,
   "metadata": {},
   "outputs": [],
   "source": [
    "test = pd.read_csv('nyc_crime_2014.csv', header=4, skipfooter=7, engine='python')"
   ]
  },
  {
   "cell_type": "code",
   "execution_count": 34,
   "metadata": {
    "scrolled": true
   },
   "outputs": [],
   "source": [
    "# Apply cleaning script to test dataset\n",
    "\n",
    "# remove extra column\n",
    "del test['Unnamed: 13']\n",
    "\n",
    "# rename columns\n",
    "test.columns = ['city', 'population', 'violent_crimes', 'murder', 'rape1', 'rape2', 'robbery', 'assault', 'property', \n",
    "              'burglary', 'larceny_theft', 'vehicle_theft', 'arson']\n",
    "\n",
    "# delete unnecessary columns for easier pre-processing\n",
    "del test['rape1']\n",
    "del test['rape2']\n",
    "del test['arson']"
   ]
  },
  {
   "cell_type": "code",
   "execution_count": 35,
   "metadata": {},
   "outputs": [],
   "source": [
    "# Fill NaN with 0\n",
    "test.fillna(value=0, inplace=True)\n",
    "\n",
    "# Remove commas \n",
    "column_names = ['city', 'population', 'violent_crimes', 'murder', 'robbery', 'assault', 'property', \n",
    "              'burglary', 'larceny_theft', 'vehicle_theft']\n",
    "\n",
    "for column in column_names:\n",
    "    test[column] = test[column].apply(lambda x: str(x).replace(',', ''))\n",
    "    \n",
    "# Convert to numeric\n",
    "numeric_columns = ['population', 'murder', 'robbery']\n",
    "\n",
    "for column in numeric_columns:\n",
    "    test[column] = pd.to_numeric(test[column])"
   ]
  },
  {
   "cell_type": "code",
   "execution_count": 36,
   "metadata": {},
   "outputs": [],
   "source": [
    "#square population\n",
    "test['sq_population'] = test['population'] **2\n",
    "\n",
    "#Encode murder data as categorical\n",
    "test['murder_mod'] = 0\n",
    "test.loc[test['murder'] > 0, 'murder_mod'] = 1\n",
    "\n",
    "#Encode robbery data as categorical\n",
    "test['robbery_mod'] = 0\n",
    "test.loc[test['robbery'] > 0, 'robbery_mod'] = 1"
   ]
  },
  {
   "cell_type": "markdown",
   "metadata": {},
   "source": [
    "## Create Model\n",
    "$$ Property crime = \\alpha + Population + Population^2 + Murder + Robbery$$"
   ]
  },
  {
   "cell_type": "code",
   "execution_count": 37,
   "metadata": {},
   "outputs": [],
   "source": [
    "#square population\n",
    "df['sq_population'] = df['population'] **2\n",
    "\n",
    "#Encode murder data as categorical\n",
    "df['murder_mod'] = 0\n",
    "df.loc[df['murder'] > 0, 'murder_mod'] = 1\n",
    "\n",
    "#Encode robbery data as categorical\n",
    "df['robbery_mod'] = 0\n",
    "df.loc[df['robbery'] > 0, 'robbery_mod'] = 1"
   ]
  },
  {
   "cell_type": "markdown",
   "metadata": {},
   "source": [
    "### Train\n",
    "\n",
    "Train the model using 2013 crime data."
   ]
  },
  {
   "cell_type": "code",
   "execution_count": 38,
   "metadata": {},
   "outputs": [],
   "source": [
    "# Follow given model for parameter selection\n",
    "X_train = df[['population', 'sq_population', 'murder_mod', 'robbery_mod']]"
   ]
  },
  {
   "cell_type": "code",
   "execution_count": 39,
   "metadata": {},
   "outputs": [
    {
     "data": {
      "text/html": [
       "<div>\n",
       "<style scoped>\n",
       "    .dataframe tbody tr th:only-of-type {\n",
       "        vertical-align: middle;\n",
       "    }\n",
       "\n",
       "    .dataframe tbody tr th {\n",
       "        vertical-align: top;\n",
       "    }\n",
       "\n",
       "    .dataframe thead th {\n",
       "        text-align: right;\n",
       "    }\n",
       "</style>\n",
       "<table border=\"1\" class=\"dataframe\">\n",
       "  <thead>\n",
       "    <tr style=\"text-align: right;\">\n",
       "      <th></th>\n",
       "      <th>population</th>\n",
       "      <th>sq_population</th>\n",
       "      <th>murder_mod</th>\n",
       "      <th>robbery_mod</th>\n",
       "    </tr>\n",
       "  </thead>\n",
       "  <tbody>\n",
       "    <tr>\n",
       "      <th>population</th>\n",
       "      <td>1.000000</td>\n",
       "      <td>0.998264</td>\n",
       "      <td>0.162309</td>\n",
       "      <td>0.064371</td>\n",
       "    </tr>\n",
       "    <tr>\n",
       "      <th>sq_population</th>\n",
       "      <td>0.998264</td>\n",
       "      <td>1.000000</td>\n",
       "      <td>0.133067</td>\n",
       "      <td>0.043983</td>\n",
       "    </tr>\n",
       "    <tr>\n",
       "      <th>murder_mod</th>\n",
       "      <td>0.162309</td>\n",
       "      <td>0.133067</td>\n",
       "      <td>1.000000</td>\n",
       "      <td>0.313271</td>\n",
       "    </tr>\n",
       "    <tr>\n",
       "      <th>robbery_mod</th>\n",
       "      <td>0.064371</td>\n",
       "      <td>0.043983</td>\n",
       "      <td>0.313271</td>\n",
       "      <td>1.000000</td>\n",
       "    </tr>\n",
       "  </tbody>\n",
       "</table>\n",
       "</div>"
      ],
      "text/plain": [
       "               population  sq_population  murder_mod  robbery_mod\n",
       "population       1.000000       0.998264    0.162309     0.064371\n",
       "sq_population    0.998264       1.000000    0.133067     0.043983\n",
       "murder_mod       0.162309       0.133067    1.000000     0.313271\n",
       "robbery_mod      0.064371       0.043983    0.313271     1.000000"
      ]
     },
     "metadata": {},
     "output_type": "display_data"
    }
   ],
   "source": [
    "# Evaluate correlation between variables. Population and population squared are highly correlated, as expected.\n",
    "correlation_matrix = X_train.corr()\n",
    "display(X_train.corr())"
   ]
  },
  {
   "cell_type": "code",
   "execution_count": 40,
   "metadata": {},
   "outputs": [
    {
     "name": "stdout",
     "output_type": "stream",
     "text": [
      "\n",
      "Coefficients: \n",
      " [ 3.46570268e-02 -2.11108019e-09  1.51866535e+01 -9.62774363e+01]\n",
      "\n",
      "Intercept: \n",
      " -109.57533562257231\n",
      "\n",
      "R-squared:\n",
      "0.9961247104988709\n"
     ]
    }
   ],
   "source": [
    "# Instantiate and fit.\n",
    "regr = linear_model.LinearRegression()\n",
    "Y_train = df['property']\n",
    "X_train = df[['population', 'sq_population', 'murder_mod', 'robbery_mod']]\n",
    "regr.fit(X_train, Y_train)\n",
    "\n",
    "# Inspect the results.\n",
    "print('\\nCoefficients: \\n', regr.coef_)\n",
    "print('\\nIntercept: \\n', regr.intercept_)\n",
    "print('\\nR-squared:')\n",
    "print(regr.score(X_train, Y_train))"
   ]
  },
  {
   "cell_type": "markdown",
   "metadata": {},
   "source": [
    "### Validate Model"
   ]
  },
  {
   "cell_type": "code",
   "execution_count": 41,
   "metadata": {},
   "outputs": [
    {
     "name": "stdout",
     "output_type": "stream",
     "text": [
      "                            OLS Regression Results                            \n",
      "==============================================================================\n",
      "Dep. Variable:               property   R-squared:                       0.996\n",
      "Model:                            OLS   Adj. R-squared:                  0.996\n",
      "Method:                 Least Squares   F-statistic:                 2.204e+04\n",
      "Date:                Thu, 08 Mar 2018   Prob (F-statistic):               0.00\n",
      "Time:                        08:59:05   Log-Likelihood:                -2639.5\n",
      "No. Observations:                 348   AIC:                             5289.\n",
      "Df Residuals:                     343   BIC:                             5308.\n",
      "Df Model:                           4                                         \n",
      "Covariance Type:            nonrobust                                         \n",
      "=================================================================================\n",
      "                    coef    std err          t      P>|t|      [0.025      0.975]\n",
      "---------------------------------------------------------------------------------\n",
      "Intercept      -109.5753     40.989     -2.673      0.008    -190.197     -28.954\n",
      "population        0.0347      0.001     29.955      0.000       0.032       0.037\n",
      "sq_population -2.111e-09   1.37e-10    -15.390      0.000   -2.38e-09   -1.84e-09\n",
      "murder_mod       15.1867     87.625      0.173      0.863    -157.163     187.536\n",
      "robbery_mod     -96.2774     56.836     -1.694      0.091    -208.068      15.513\n",
      "==============================================================================\n",
      "Omnibus:                      129.816   Durbin-Watson:                   1.921\n",
      "Prob(Omnibus):                  0.000   Jarque-Bera (JB):            18476.109\n",
      "Skew:                          -0.223   Prob(JB):                         0.00\n",
      "Kurtosis:                      38.693   Cond. No.                     1.30e+13\n",
      "==============================================================================\n",
      "\n",
      "Warnings:\n",
      "[1] Standard Errors assume that the covariance matrix of the errors is correctly specified.\n",
      "[2] The condition number is large, 1.3e+13. This might indicate that there are\n",
      "strong multicollinearity or other numerical problems.\n"
     ]
    }
   ],
   "source": [
    "import statsmodels.formula.api as smf\n",
    "from sklearn.linear_model import LinearRegression \n",
    "from scipy import stats\n",
    "\n",
    "# Organize data so that variable being predicted and all parameters are in same df\n",
    "data = df[['property', 'population', 'sq_population', 'murder_mod', 'robbery_mod']]\n",
    "\n",
    "# Specify interaction\n",
    "linear_formula = 'property ~ population+sq_population+murder_mod+robbery_mod'\n",
    "\n",
    "# Run model and print results\n",
    "lm = smf.ols(formula=linear_formula, data=data).fit()\n",
    "print(lm.summary())"
   ]
  },
  {
   "cell_type": "markdown",
   "metadata": {},
   "source": [
    "The probability of the F-statistic is less than 0.05, indicating a significant F-test and that the model as a whole can explain some of the variance in the outcome.  \n",
    "\n",
    "Looking at the individual parameters, both murder_mod and robbery_mod have p values > 0.05, indicating there is probably no effect for each feature and dropping them would not adversely affect the R^2."
   ]
  },
  {
   "cell_type": "markdown",
   "metadata": {},
   "source": [
    "### Revise Model"
   ]
  },
  {
   "cell_type": "code",
   "execution_count": 42,
   "metadata": {},
   "outputs": [
    {
     "name": "stdout",
     "output_type": "stream",
     "text": [
      "\n",
      "Coefficients: \n",
      " [ 3.41379526e-02 -2.04973282e-09]\n",
      "\n",
      "Intercept: \n",
      " -156.96382064187355\n",
      "\n",
      "R-squared:\n",
      "0.9960921521961243\n",
      "                            OLS Regression Results                            \n",
      "==============================================================================\n",
      "Dep. Variable:               property   R-squared:                       0.996\n",
      "Model:                            OLS   Adj. R-squared:                  0.996\n",
      "Method:                 Least Squares   F-statistic:                 4.397e+04\n",
      "Date:                Thu, 08 Mar 2018   Prob (F-statistic):               0.00\n",
      "Time:                        08:59:05   Log-Likelihood:                -2640.9\n",
      "No. Observations:                 348   AIC:                             5288.\n",
      "Df Residuals:                     345   BIC:                             5299.\n",
      "Df Model:                           2                                         \n",
      "Covariance Type:            nonrobust                                         \n",
      "=================================================================================\n",
      "                    coef    std err          t      P>|t|      [0.025      0.975]\n",
      "---------------------------------------------------------------------------------\n",
      "Intercept      -156.9638     30.030     -5.227      0.000    -216.030     -97.898\n",
      "population        0.0341      0.001     35.103      0.000       0.032       0.036\n",
      "sq_population  -2.05e-09   1.16e-10    -17.698      0.000   -2.28e-09   -1.82e-09\n",
      "==============================================================================\n",
      "Omnibus:                      126.947   Durbin-Watson:                   1.931\n",
      "Prob(Omnibus):                  0.000   Jarque-Bera (JB):            18441.979\n",
      "Skew:                           0.040   Prob(JB):                         0.00\n",
      "Kurtosis:                      38.663   Cond. No.                     4.41e+12\n",
      "==============================================================================\n",
      "\n",
      "Warnings:\n",
      "[1] Standard Errors assume that the covariance matrix of the errors is correctly specified.\n",
      "[2] The condition number is large, 4.41e+12. This might indicate that there are\n",
      "strong multicollinearity or other numerical problems.\n"
     ]
    }
   ],
   "source": [
    "# **************Are lines 3-7 necessary to do when revising model or is it taken care of in subsequent lines? \n",
    "\n",
    "# Reinstantiate and fit.\n",
    "regr = linear_model.LinearRegression()\n",
    "Y_train = df['property']\n",
    "X_train = df[['population', 'sq_population']]\n",
    "regr.fit(X_train, Y_train)\n",
    "\n",
    "# Inspect the results.\n",
    "print('\\nCoefficients: \\n', regr.coef_)\n",
    "print('\\nIntercept: \\n', regr.intercept_)\n",
    "print('\\nR-squared:')\n",
    "print(regr.score(X_train, Y_train))\n",
    "\n",
    "# Reorganize data and remove unwanted parameters\n",
    "data_slim = df[['property', 'population', 'sq_population']]\n",
    "\n",
    "# Update interaction\n",
    "linear_formula = 'property ~ population+sq_population'\n",
    "\n",
    "# Run model and print results\n",
    "lm_slim = smf.ols(formula=linear_formula, data=data_slim).fit()\n",
    "print(lm_slim.summary())"
   ]
  },
  {
   "cell_type": "markdown",
   "metadata": {},
   "source": [
    "The probability of the F-statistic remains 0 and the R^2 value remains large.  However, the results warm there may be strong multicollinearity in the parameters (which we know is true from the correlation matrix).  This may affect the performance of the model on test data."
   ]
  },
  {
   "cell_type": "markdown",
   "metadata": {},
   "source": [
    "### Test Model\n",
    "\n",
    "Test the model using 2014 crime data."
   ]
  },
  {
   "cell_type": "code",
   "execution_count": 47,
   "metadata": {},
   "outputs": [
    {
     "name": "stdout",
     "output_type": "stream",
     "text": [
      "\n",
      "Coefficients: \n",
      " [ 3.41379526e-02 -2.04973282e-09]\n",
      "\n",
      "Intercept: \n",
      " -156.96382064187355\n",
      "\n",
      "R-squared:\n",
      "0.9938046584128706\n"
     ]
    }
   ],
   "source": [
    "# ************ Confirm this section is done correctly\n",
    "\n",
    "# Specify test data\n",
    "Y_test = test['property']\n",
    "X_test = test[['population', 'sq_population']]\n",
    "\n",
    "# Get results\n",
    "print('\\nCoefficients: \\n', regr.coef_)\n",
    "print('\\nIntercept: \\n', regr.intercept_)\n",
    "print('\\nR-squared:')\n",
    "print(regr.score(X_test, Y_test))"
   ]
  },
  {
   "cell_type": "markdown",
   "metadata": {},
   "source": [
    "Based on the results above, the model performed well with the test data.  \n",
    "R^2 train = 0.996<br>\n",
    "R^2 test = 0.993"
   ]
  },
  {
   "cell_type": "code",
   "execution_count": null,
   "metadata": {},
   "outputs": [],
   "source": []
  }
 ],
 "metadata": {
  "kernelspec": {
   "display_name": "Python 3",
   "language": "python",
   "name": "python3"
  },
  "language_info": {
   "codemirror_mode": {
    "name": "ipython",
    "version": 3
   },
   "file_extension": ".py",
   "mimetype": "text/x-python",
   "name": "python",
   "nbconvert_exporter": "python",
   "pygments_lexer": "ipython3",
   "version": "3.6.3"
  }
 },
 "nbformat": 4,
 "nbformat_minor": 2
}

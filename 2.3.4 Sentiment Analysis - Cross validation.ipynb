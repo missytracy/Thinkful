{
 "cells": [
  {
   "cell_type": "code",
   "execution_count": 163,
   "metadata": {},
   "outputs": [],
   "source": [
    "import numpy as np\n",
    "import pandas as pd\n",
    "import sklearn\n",
    "from sklearn.metrics import accuracy_score"
   ]
  },
  {
   "cell_type": "markdown",
   "metadata": {},
   "source": [
    "## 2.3.4 Sentiment Analysis - Iterate and Evaluate Classifier"
   ]
  },
  {
   "cell_type": "markdown",
   "metadata": {},
   "source": [
    "#### #1. Evaluate Classifier As-Is"
   ]
  },
  {
   "cell_type": "code",
   "execution_count": 164,
   "metadata": {
    "scrolled": true
   },
   "outputs": [
    {
     "data": {
      "text/plain": [
       "1    500\n",
       "0    500\n",
       "Name: positive, dtype: int64"
      ]
     },
     "execution_count": 164,
     "metadata": {},
     "output_type": "execute_result"
    }
   ],
   "source": [
    "#Evaluate using Amazon data\n",
    "\n",
    "#import data\n",
    "df = pd.read_csv('amazon.txt', delimiter='\\t', header=None)\n",
    "df.columns = ['message', 'positive']\n",
    "\n",
    "#look at class balance\n",
    "df.positive.value_counts()"
   ]
  },
  {
   "cell_type": "code",
   "execution_count": 165,
   "metadata": {},
   "outputs": [],
   "source": [
    "#standardize to all lowercase\n",
    "df.message = df.message.apply(lambda x: str(x).lower())\n",
    "\n",
    "#generate positive keywords\n",
    "keywords =  ['great', 'good', 'excellent', 'love', 'like', 'liked', 'quality', 'awesome', 'enjoy', 'impressed', \n",
    "            'satisfied', 'well', 'recommend', 'sweet', 'sweetest', 'secure', 'best', 'easy', \n",
    "            'winner', 'comfortable', 'impressive', 'inexpensive', 'beautiful', 'pretty', 'nice', 'funny', \n",
    "            'value', 'ideal', 'happy'\n",
    "            ]\n",
    "\n",
    "#write loop to check for keywords in message and populate data columns\n",
    "for key in keywords:\n",
    "    df[str(key)] = df.message.str.contains(str(key), case=False)"
   ]
  },
  {
   "cell_type": "code",
   "execution_count": 166,
   "metadata": {
    "scrolled": true
   },
   "outputs": [
    {
     "name": "stdout",
     "output_type": "stream",
     "text": [
      "Model accuracy (all training data):  0.762\n"
     ]
    }
   ],
   "source": [
    "# **************************************// NO DATA SPLIT //*******************************************\n",
    "    \n",
    "#specify outcome (target) and inputs (data)\n",
    "data = df[keywords]\n",
    "target = df['positive']\n",
    "\n",
    "#import Bernoulli NB classifier\n",
    "from sklearn.naive_bayes import BernoulliNB\n",
    "\n",
    "#create instance of classifier\n",
    "bnb = BernoulliNB()\n",
    "\n",
    "#train model\n",
    "bnb.fit(data, target)\n",
    "\n",
    "#classify prediction and store as new variable\n",
    "df['predicted'] = bnb.predict(data)\n",
    "\n",
    "#print accuracy\n",
    "print('Model accuracy (all training data): ', accuracy_score(df.positive, df.predicted))"
   ]
  },
  {
   "cell_type": "code",
   "execution_count": 167,
   "metadata": {},
   "outputs": [
    {
     "name": "stdout",
     "output_type": "stream",
     "text": [
      "Hold Out Accuracy - training set: 0.758571428571\n",
      "Hold Out Accuracy - test set: 0.75\n"
     ]
    }
   ],
   "source": [
    "# ************************// HOLD OUT 30% DATA FOR TEST SET //***************************\n",
    "\n",
    "#specify variables\n",
    "x = data = df[keywords]\n",
    "y = target = df['positive']\n",
    "\n",
    "#re-initiate classifier  ##is this a necessary step for each scenario?\n",
    "bnb = BernoulliNB()\n",
    "\n",
    "# Split data 70% train, 30% test\n",
    "from sklearn.model_selection import train_test_split\n",
    "x_train, x_test, y_train, y_test = train_test_split(x, y, test_size=0.30, random_state=17)\n",
    "\n",
    "# Train model, predict outcome with training set\n",
    "y_pred_train = bnb.fit(x_train, y_train).predict(x_train)\n",
    "\n",
    "# Test using test data\n",
    "y_pred_test = bnb.predict(x_test)\n",
    "\n",
    "\n",
    "print('Hold Out Accuracy - training set:', accuracy_score(y_train, y_pred_train))\n",
    "print('Hold Out Accuracy - test set:', accuracy_score(y_test, y_pred_test))"
   ]
  },
  {
   "cell_type": "code",
   "execution_count": 168,
   "metadata": {},
   "outputs": [
    {
     "name": "stdout",
     "output_type": "stream",
     "text": [
      "[ 0.8    0.76   0.72   0.735  0.73 ]\n",
      "0.749\n"
     ]
    }
   ],
   "source": [
    "# **************************// 5-WAY CROSS VALIDATION //***********************************\n",
    "\n",
    "#import cross validation score\n",
    "from sklearn.model_selection import cross_val_score\n",
    "\n",
    "#re-initiate classifier  \n",
    "bnb = BernoulliNB()\n",
    "\n",
    "#specify variables\n",
    "x = data = df[keywords]\n",
    "y = target = df['positive']\n",
    "\n",
    "#setup cross validation.  cv=5 means 5-fold cross validation using KFold\n",
    "scores = cross_val_score(bnb, x, y, cv=5)\n",
    "\n",
    "print(scores)\n",
    "print(np.mean(scores))\n"
   ]
  },
  {
   "cell_type": "markdown",
   "metadata": {},
   "source": [
    "Based on the above results, the model does not appear to be overfit in any of the test scenarios.  When using all of the data as the train/test set, the accuracy is 76%.  When splitting the into train(70%)/test(30%), the model has the same accuracy on the training set as it does the unseen test data.  When using 5-way cross validation (Kfolds), the accuracy ranges from 72-80%. \n",
    "<br><br>\n",
    "To summarize:\n",
    "* All data: 76%\n",
    "* 70/30 split: 75% both sets\n",
    "* Cross validated: 72-80%, average of 75%"
   ]
  },
  {
   "cell_type": "markdown",
   "metadata": {},
   "source": [
    "#### #2. Modify features and evaluate classifier again."
   ]
  },
  {
   "cell_type": "code",
   "execution_count": 169,
   "metadata": {},
   "outputs": [
    {
     "data": {
      "text/plain": [
       "message        so there is no way for me to plug it in here i...\n",
       "positive                                                     500\n",
       "great                                                         98\n",
       "good                                                          75\n",
       "excellent                                                     27\n",
       "love                                                          24\n",
       "like                                                          33\n",
       "liked                                                       True\n",
       "quality                                                       49\n",
       "awesome                                                        5\n",
       "enjoy                                                       True\n",
       "impressed                                                      9\n",
       "satisfied                                                      4\n",
       "well                                                          41\n",
       "recommend                                                     27\n",
       "sweet                                                       True\n",
       "sweetest                                                    True\n",
       "secure                                                         3\n",
       "best                                                          22\n",
       "easy                                                          18\n",
       "winner                                                      True\n",
       "comfortable                                                   19\n",
       "impressive                                                     2\n",
       "inexpensive                                                 True\n",
       "beautiful                                                      3\n",
       "pretty                                                        10\n",
       "nice                                                          24\n",
       "funny                                                       True\n",
       "value                                                          5\n",
       "ideal                                                       True\n",
       "happy                                                         17\n",
       "predicted                                                    354\n",
       "dtype: object"
      ]
     },
     "execution_count": 169,
     "metadata": {},
     "output_type": "execute_result"
    }
   ],
   "source": [
    "#count instances of each word in message to identify most common\n",
    "df.sum()"
   ]
  },
  {
   "cell_type": "code",
   "execution_count": 170,
   "metadata": {},
   "outputs": [
    {
     "name": "stdout",
     "output_type": "stream",
     "text": [
      "top_words length: 10\n",
      "keywords length: 29\n",
      "# features reduced by: 19\n"
     ]
    }
   ],
   "source": [
    "#Keep words with counts > 20\n",
    "top_words = ['great', 'good', 'excellent', 'love', 'like', 'quality', 'well', 'recommend', 'best', 'nice']\n",
    "print('top_words length:', len(top_words))\n",
    "print('keywords length:', len(keywords))\n",
    "print('# features reduced by:', len(keywords) - len(top_words))"
   ]
  },
  {
   "cell_type": "code",
   "execution_count": 171,
   "metadata": {},
   "outputs": [
    {
     "data": {
      "text/html": [
       "<div>\n",
       "<style scoped>\n",
       "    .dataframe tbody tr th:only-of-type {\n",
       "        vertical-align: middle;\n",
       "    }\n",
       "\n",
       "    .dataframe tbody tr th {\n",
       "        vertical-align: top;\n",
       "    }\n",
       "\n",
       "    .dataframe thead th {\n",
       "        text-align: right;\n",
       "    }\n",
       "</style>\n",
       "<table border=\"1\" class=\"dataframe\">\n",
       "  <thead>\n",
       "    <tr style=\"text-align: right;\">\n",
       "      <th></th>\n",
       "      <th>message</th>\n",
       "      <th>positive</th>\n",
       "      <th>great</th>\n",
       "      <th>good</th>\n",
       "      <th>excellent</th>\n",
       "      <th>love</th>\n",
       "      <th>like</th>\n",
       "      <th>quality</th>\n",
       "      <th>well</th>\n",
       "      <th>recommend</th>\n",
       "      <th>best</th>\n",
       "      <th>nice</th>\n",
       "    </tr>\n",
       "  </thead>\n",
       "  <tbody>\n",
       "    <tr>\n",
       "      <th>0</th>\n",
       "      <td>so there is no way for me to plug it in here i...</td>\n",
       "      <td>0</td>\n",
       "      <td>False</td>\n",
       "      <td>False</td>\n",
       "      <td>False</td>\n",
       "      <td>False</td>\n",
       "      <td>False</td>\n",
       "      <td>False</td>\n",
       "      <td>False</td>\n",
       "      <td>False</td>\n",
       "      <td>False</td>\n",
       "      <td>False</td>\n",
       "    </tr>\n",
       "    <tr>\n",
       "      <th>1</th>\n",
       "      <td>good case, excellent value.</td>\n",
       "      <td>1</td>\n",
       "      <td>False</td>\n",
       "      <td>True</td>\n",
       "      <td>True</td>\n",
       "      <td>False</td>\n",
       "      <td>False</td>\n",
       "      <td>False</td>\n",
       "      <td>False</td>\n",
       "      <td>False</td>\n",
       "      <td>False</td>\n",
       "      <td>False</td>\n",
       "    </tr>\n",
       "    <tr>\n",
       "      <th>2</th>\n",
       "      <td>great for the jawbone.</td>\n",
       "      <td>1</td>\n",
       "      <td>True</td>\n",
       "      <td>False</td>\n",
       "      <td>False</td>\n",
       "      <td>False</td>\n",
       "      <td>False</td>\n",
       "      <td>False</td>\n",
       "      <td>False</td>\n",
       "      <td>False</td>\n",
       "      <td>False</td>\n",
       "      <td>False</td>\n",
       "    </tr>\n",
       "    <tr>\n",
       "      <th>3</th>\n",
       "      <td>tied to charger for conversations lasting more...</td>\n",
       "      <td>0</td>\n",
       "      <td>False</td>\n",
       "      <td>False</td>\n",
       "      <td>False</td>\n",
       "      <td>False</td>\n",
       "      <td>False</td>\n",
       "      <td>False</td>\n",
       "      <td>False</td>\n",
       "      <td>False</td>\n",
       "      <td>False</td>\n",
       "      <td>False</td>\n",
       "    </tr>\n",
       "    <tr>\n",
       "      <th>4</th>\n",
       "      <td>the mic is great.</td>\n",
       "      <td>1</td>\n",
       "      <td>True</td>\n",
       "      <td>False</td>\n",
       "      <td>False</td>\n",
       "      <td>False</td>\n",
       "      <td>False</td>\n",
       "      <td>False</td>\n",
       "      <td>False</td>\n",
       "      <td>False</td>\n",
       "      <td>False</td>\n",
       "      <td>False</td>\n",
       "    </tr>\n",
       "  </tbody>\n",
       "</table>\n",
       "</div>"
      ],
      "text/plain": [
       "                                             message  positive  great   good  \\\n",
       "0  so there is no way for me to plug it in here i...         0  False  False   \n",
       "1                        good case, excellent value.         1  False   True   \n",
       "2                             great for the jawbone.         1   True  False   \n",
       "3  tied to charger for conversations lasting more...         0  False  False   \n",
       "4                                  the mic is great.         1   True  False   \n",
       "\n",
       "   excellent   love   like  quality   well  recommend   best   nice  \n",
       "0      False  False  False    False  False      False  False  False  \n",
       "1       True  False  False    False  False      False  False  False  \n",
       "2      False  False  False    False  False      False  False  False  \n",
       "3      False  False  False    False  False      False  False  False  \n",
       "4      False  False  False    False  False      False  False  False  "
      ]
     },
     "execution_count": 171,
     "metadata": {},
     "output_type": "execute_result"
    }
   ],
   "source": [
    "#re-import data to start with clean version\n",
    "df2 = pd.read_csv('amazon.txt', delimiter='\\t', header=None)\n",
    "df2.columns = ['message', 'positive']\n",
    "\n",
    "#standardize to all lowercase\n",
    "df2.message = df.message.apply(lambda x: str(x).lower())\n",
    "\n",
    "#write loop to check for condensed keywords in message and populate data columns\n",
    "for word in top_words:\n",
    "    df2[str(word)] = df2.message.str.contains(str(word), case=False)\n",
    "\n",
    "#confirm df looks how we want it to\n",
    "df2.head()"
   ]
  },
  {
   "cell_type": "code",
   "execution_count": 172,
   "metadata": {},
   "outputs": [
    {
     "name": "stdout",
     "output_type": "stream",
     "text": [
      "Model accuracy, reduced keywords (all training data):  0.731\n"
     ]
    }
   ],
   "source": [
    "# **********************// Re-run model: no train/test split or cross validation //***************************\n",
    "\n",
    "#specify outcome (target) and inputs (data)\n",
    "data = df2[top_words]\n",
    "target = df2['positive']\n",
    "\n",
    "#re-initiate classifier\n",
    "bnb = BernoulliNB()\n",
    "\n",
    "#train model\n",
    "bnb.fit(data, target)\n",
    "\n",
    "#classify prediction and store as new variable\n",
    "df2['predicted'] = bnb.predict(data)\n",
    "\n",
    "#print accuracy\n",
    "print('Model accuracy, reduced keywords (all training data): ', accuracy_score(df2.positive, df2.predicted))"
   ]
  },
  {
   "cell_type": "code",
   "execution_count": 173,
   "metadata": {},
   "outputs": [
    {
     "name": "stdout",
     "output_type": "stream",
     "text": [
      "Hold Out Accuracy - training set: 0.722857142857\n",
      "Hold Out Accuracy - test set: 0.73\n"
     ]
    }
   ],
   "source": [
    "# ************************// HOLD OUT 30% DATA FOR TEST SET //***************************\n",
    "\n",
    "#specify variables\n",
    "x = data = df2[top_words]\n",
    "y = target = df2['positive']\n",
    "\n",
    "#re-initiate classifier \n",
    "bnb = BernoulliNB()\n",
    "\n",
    "# Split data 70% train, 30% test\n",
    "x_train, x_test, y_train, y_test = train_test_split(x, y, test_size=0.30, random_state=17)\n",
    "\n",
    "# Train model, predict outcome with training set\n",
    "y_pred_train = bnb.fit(x_train, y_train).predict(x_train)\n",
    "\n",
    "# Test using test data\n",
    "y_pred_test = bnb.predict(x_test)\n",
    "\n",
    "\n",
    "print('Hold Out Accuracy - training set:', accuracy_score(y_train, y_pred_train))\n",
    "print('Hold Out Accuracy - test set:', accuracy_score(y_test, y_pred_test))"
   ]
  },
  {
   "cell_type": "code",
   "execution_count": 174,
   "metadata": {},
   "outputs": [
    {
     "name": "stdout",
     "output_type": "stream",
     "text": [
      "[ 0.83  0.75  0.8   0.73  0.71  0.69  0.67  0.71  0.75  0.63]\n",
      "0.727\n"
     ]
    }
   ],
   "source": [
    "# **************************// 10-WAY CROSS VALIDATION //***********************************\n",
    "\n",
    "#re-initiate classifier  \n",
    "bnb = BernoulliNB()\n",
    "\n",
    "#specify variables\n",
    "x = data = df2[top_words]\n",
    "y = target = df2['positive']\n",
    "\n",
    "#setup cross validation.  cv=10 means 10-fold cross validation using KFold\n",
    "scores = cross_val_score(bnb, x, y, cv=10)\n",
    "\n",
    "print(scores)\n",
    "print(np.mean(scores))"
   ]
  },
  {
   "cell_type": "markdown",
   "metadata": {},
   "source": [
    "Summary of results:\n",
    "\n",
    "* Keyword features reduced from 21 to 10\n",
    "* Modeling with full data set gives 73% accuracy (vs. 76% from before)\n",
    "* Modeling with 70/30 split gives 73% accuracy with test set (vs. 75% from before)\n",
    "* Modeling with 10-way cross validation gives an average accuracy of 73% (vs. 75% before), larger variation observed in test results relative to 5-way cross validation.\n",
    "\n",
    "Conclusions:\n",
    "* All model configurations approximately the same on overall accuracy.  Likely because the dataset is fairly large (n=1000) and equally balanced between positive and negative sentiments.  Model features can be reduced by 50% while still maintaining same level of accuracy."
   ]
  },
  {
   "cell_type": "code",
   "execution_count": null,
   "metadata": {},
   "outputs": [],
   "source": []
  }
 ],
 "metadata": {
  "kernelspec": {
   "display_name": "Python 3",
   "language": "python",
   "name": "python3"
  },
  "language_info": {
   "codemirror_mode": {
    "name": "ipython",
    "version": 3
   },
   "file_extension": ".py",
   "mimetype": "text/x-python",
   "name": "python",
   "nbconvert_exporter": "python",
   "pygments_lexer": "ipython3",
   "version": "3.6.3"
  }
 },
 "nbformat": 4,
 "nbformat_minor": 2
}
